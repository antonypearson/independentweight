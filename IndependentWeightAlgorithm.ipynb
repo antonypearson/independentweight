{
 "cells": [
  {
   "cell_type": "markdown",
   "metadata": {},
   "source": [
    "This notebook provides functions to compute the independent weight of a given binary source (P) over d random variables, and the success parameters of the independent source(s) that achieve that weight. For d>6, the algorithm may be too slow. This algorithm does not require P>0."
   ]
  },
  {
   "cell_type": "code",
   "execution_count": 12,
   "metadata": {},
   "outputs": [],
   "source": [
    "import numpy as np\n",
    "import itertools"
   ]
  },
  {
   "cell_type": "code",
   "execution_count": 13,
   "metadata": {},
   "outputs": [],
   "source": [
    "def createIndependentSource(params):\n",
    "    '''Given a list (params) of [0,1]-valued Bernoulli parameters, returns\n",
    "    a list (P) of length 2^d, the probabilities of the outcomes (in lexicographical order)\n",
    "    of independent Bernoulli random variables'''\n",
    "    d = len(params)\n",
    "    P = []\n",
    "    Range = list(map(lambda x: ''.join(x),itertools.product(['0', '1'], repeat=d))) \n",
    "    for k in range(len(Range)):\n",
    "        pk = 1.\n",
    "        for j in range(d):\n",
    "            pk *= (params[j]**float(Range[k][j]))*(1.-params[j])**(1.-float(Range[k][j]))\n",
    "        P.append(pk)\n",
    "    return P"
   ]
  },
  {
   "cell_type": "code",
   "execution_count": 14,
   "metadata": {},
   "outputs": [],
   "source": [
    "def is_invertible(a):\n",
    "    '''Given a square numpy array (a), returns True if a is invertible and False if not'''\n",
    "    return a.shape[0] == a.shape[1] and np.linalg.matrix_rank(a) == a.shape[0]"
   ]
  },
  {
   "cell_type": "code",
   "execution_count": 15,
   "metadata": {},
   "outputs": [],
   "source": [
    "def compatible(c,P):\n",
    "    '''Given a list (c) of length d, the configuration, returns True if the configuration creates\n",
    "    0-probability outcomes x whenever P(x)=0, and False if P(x)=0 for some x which does not have\n",
    "    0-probability under c'''\n",
    "    d = int(np.log2(len(P)))\n",
    "    Range = list(map(lambda x: ''.join(x),itertools.product(['0', '1'], repeat=d)))\n",
    "    Q = createIndependentSource(c)\n",
    "    for j in range(len(P)):\n",
    "        if P[j]==0 and Q[j]!=0:return False\n",
    "    return True"
   ]
  },
  {
   "cell_type": "code",
   "execution_count": 16,
   "metadata": {},
   "outputs": [],
   "source": [
    "def computeVerticesHoles(P,k,c,epsilon=10**-5):\n",
    "    '''Takes a list (P) of length 2^d (a probability distribution), a string (k) of length d (a binary outcome),\n",
    "    a list (c) of length d (a configuration -- which coordinates are deterministic), and a tolerance (epsilon).\n",
    "    Returns the maximum of the objective function in the polyhedron Q_k, and the d Bernoulli parameters\n",
    "    corresponding to the maximiser on the polyhedron'''\n",
    "    Q = createIndependentSource(c)\n",
    "    d = len(k)\n",
    "    Range = list(map(lambda x: ''.join(x),itertools.product(['0', '1'], repeat=d)))\n",
    "    Qholes = [x for x in range(2**d) if Q[x]==0]\n",
    "    variables = [x for x in range(d) if 0<c[x]<1]\n",
    "    e = len(variables)\n",
    "    A = []\n",
    "    b = []\n",
    "    K = Range.index(k)\n",
    "    for j in range(len(Range)):\n",
    "        if j!=K and P[j]>0 and Q[j]>0:\n",
    "            b.append(np.log(P[j]/P[K]))\n",
    "            A.append([])\n",
    "            for i in variables:\n",
    "                if Range[j][i]!=Range[K][i]: A[-1].append(1)\n",
    "                else:A[-1].append(0)\n",
    "    \n",
    "    subsets = list(itertools.combinations(list(range(np.shape(A)[0])),e)) #All choose(2^d-1,d) square subsystems\n",
    "    A = np.array(A)\n",
    "    b = np.array(b)\n",
    "    vertices = []\n",
    "    for subset in subsets:\n",
    "        Atilde = A[list(subset),:]\n",
    "        try:\n",
    "            ytilde = np.linalg.solve(Atilde,b[list(subset)])\n",
    "            if np.all(np.dot(A,ytilde)<=b+epsilon):#epsilon added when checking feasibility of potential vertex\n",
    "                                                    #Numerically unstable otherwise, may fail to find a true vertex\n",
    "                vertices.append(ytilde)\n",
    "        except np.linalg.LinAlgError:\n",
    "            pass\n",
    "        \n",
    "    critVals = []\n",
    "    for j in range(len(vertices)):\n",
    "        critVals.append(P[K]*np.prod(1+np.exp(vertices[j])))\n",
    "    M = max(critVals)\n",
    "    yhat = vertices[critVals.index(M)]\n",
    "    q = []\n",
    "    l = 0\n",
    "\n",
    "    for j in range(d):\n",
    "        if j in variables:\n",
    "            q.append(np.exp(yhat[l])**(1-2*float(k[l]))/\\\n",
    "                     (1+np.exp(yhat[l])**(1-2*float(k[l]))))\n",
    "            l+=1\n",
    "        else:\n",
    "            q.append(c[j])\n",
    "        \n",
    "    \n",
    "    return M,q"
   ]
  },
  {
   "cell_type": "code",
   "execution_count": 19,
   "metadata": {},
   "outputs": [],
   "source": [
    "def indWeightHoles(P):\n",
    "    '''Given a list (P) of length 2^d, representing a probability distribution over d binary random variables,\n",
    "    with outcomes in lexicographical order, returns the independent weight and the Bernoulli parameters\n",
    "    of the component(s) where the independent weight is achieved'''\n",
    "    d = int(np.log2(len(P)))\n",
    "    C = list(itertools.product([0,1,0.5],repeat=d))\n",
    "    compatibles = []\n",
    "    for c in C:\n",
    "        if compatible(c,P) and c.count(0.5)>0:\n",
    "            compatibles.append(c)\n",
    "\n",
    "    Range = list(map(lambda x: ''.join(x),itertools.product(['0', '1'], repeat=d)))\n",
    "    \n",
    "    \n",
    "    objectives = []\n",
    "    maximisers = []\n",
    "\n",
    "    for c in compatibles:\n",
    "        Q = createIndependentSource(c)\n",
    "        for I in Range:\n",
    "            if Q[Range.index(I)]>0:\n",
    "                Obj,Max = computeVerticesHoles(P,I,c)\n",
    "                objectives.append(Obj)\n",
    "                maximisers.append(Max)\n",
    "      \n",
    "            \n",
    "    Lambda = max(objectives)\n",
    "    return Lambda, maximisers[objectives.index(Lambda)] \n",
    "\n"
   ]
  },
  {
   "cell_type": "code",
   "execution_count": 20,
   "metadata": {},
   "outputs": [
    {
     "data": {
      "text/plain": [
       "(1.0, [0.5, 0.5])"
      ]
     },
     "execution_count": 20,
     "metadata": {},
     "output_type": "execute_result"
    }
   ],
   "source": [
    "###Example###\n",
    "\n",
    "P = [0.25,0.25,0.25,0.25]#Uniform distribution on {0,1}^2\n",
    "indWeightHoles(P)"
   ]
  },
  {
   "cell_type": "code",
   "execution_count": null,
   "metadata": {},
   "outputs": [],
   "source": []
  }
 ],
 "metadata": {
  "kernelspec": {
   "display_name": "Python 3",
   "language": "python",
   "name": "python3"
  },
  "language_info": {
   "codemirror_mode": {
    "name": "ipython",
    "version": 3
   },
   "file_extension": ".py",
   "mimetype": "text/x-python",
   "name": "python",
   "nbconvert_exporter": "python",
   "pygments_lexer": "ipython3",
   "version": "3.7.4"
  }
 },
 "nbformat": 4,
 "nbformat_minor": 2
}
